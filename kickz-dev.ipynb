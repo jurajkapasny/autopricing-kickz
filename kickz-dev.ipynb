{
 "cells": [
  {
   "cell_type": "code",
   "execution_count": null,
   "id": "11ab1f7b-f53a-4eda-aecc-81a9d0e8db9e",
   "metadata": {
    "tags": []
   },
   "outputs": [],
   "source": [
    "import pandas as pd\n",
    "import datetime as dt\n",
    "import numpy as np\n",
    "#from libs.logger import Logger\n",
    "import logging\n",
    "from libs.s3 import S3\n",
    "import pyodbc\n",
    "from client_based_code.kickz_code import CONNECTION_STRING\n",
    "\n",
    "logger = logging.getLogger(__name__)\n",
    "\n",
    "from libs.logger import Logger\n",
    "logger = Logger().get_print_logger()"
   ]
  },
  {
   "cell_type": "code",
   "execution_count": null,
   "id": "ba957b03-78e7-4d75-a53b-d51649507274",
   "metadata": {
    "tags": []
   },
   "outputs": [],
   "source": [
    "gs_path_token = './auth_files/token.pickle'\n",
    "gs_path_client_secret = './auth_files/client_secret_708086849726-edgo6g4pigkf5rj0qc52rir18oso0kto.apps.googleusercontent.com.json'\n",
    "gs_spreadsheet_id = '1PHzUwQEZ5gLmf32D3Akx_qL5iFta8HuCnZWtWVb3bTk'\n",
    "\n",
    "from libs.google_sheets import GoogleSheetsApi\n",
    "\n",
    "gapi = GoogleSheetsApi(\n",
    "    path_token = gs_path_token,\n",
    "    path_client_secret = gs_path_client_secret\n",
    ")"
   ]
  },
  {
   "cell_type": "code",
   "execution_count": null,
   "id": "0d314108-e64e-432b-b702-e38c2119e5af",
   "metadata": {
    "tags": []
   },
   "outputs": [],
   "source": [
    "df_pts = gapi.google_sheet2df(gs_spreadsheet_id, 'products_to_score')"
   ]
  },
  {
   "cell_type": "code",
   "execution_count": null,
   "id": "9aef7e59-9843-4967-b023-5284af0c02ad",
   "metadata": {
    "tags": []
   },
   "outputs": [],
   "source": [
    "SQL = 'SELECT TOP 10 *  FROM [rawone11].[v_pim_articles_data]'"
   ]
  },
  {
   "cell_type": "code",
   "execution_count": null,
   "id": "f5522fee-585f-47e6-903a-9c1ac9043652",
   "metadata": {
    "tags": []
   },
   "outputs": [],
   "source": [
    "with pyodbc.connect(CONNECTION_STRING) as con:\n",
    "    df = pd.read_sql(SQL, con)"
   ]
  },
  {
   "cell_type": "code",
   "execution_count": null,
   "id": "b19d6a7b-01bf-4c61-aa7c-4447cb9ffdcd",
   "metadata": {},
   "outputs": [],
   "source": [
    "df_pts['date_added'] = pd."
   ]
  },
  {
   "cell_type": "code",
   "execution_count": null,
   "id": "6155f24c-f183-491e-9b41-9af2a226d9de",
   "metadata": {
    "tags": []
   },
   "outputs": [],
   "source": [
    "from client_based_code.kickz_code import S3ProductsToScore, get_orders"
   ]
  },
  {
   "cell_type": "code",
   "execution_count": null,
   "id": "c52d2924-4184-4406-8ca2-408bdf9ea700",
   "metadata": {
    "tags": []
   },
   "outputs": [],
   "source": [
    "#S3ProductsToScore.store(df_products_to_score)"
   ]
  },
  {
   "cell_type": "code",
   "execution_count": null,
   "id": "e3d5f54f-1130-4dbb-871a-4510e5787a62",
   "metadata": {
    "tags": []
   },
   "outputs": [],
   "source": [
    "df_products_to_score = S3ProductsToScore.load_latest()"
   ]
  },
  {
   "cell_type": "code",
   "execution_count": null,
   "id": "74ef338f-b08e-4301-8e35-489f3abce981",
   "metadata": {
    "tags": []
   },
   "outputs": [],
   "source": [
    "import datetime as dt"
   ]
  },
  {
   "cell_type": "code",
   "execution_count": null,
   "id": "5e07e677-759e-4c8f-a76d-3c4a87534f16",
   "metadata": {
    "tags": []
   },
   "outputs": [],
   "source": [
    "df_products_to_score['date_added'] = df_products_to_score['date_added'] - dt.timedelta(days=30)"
   ]
  },
  {
   "cell_type": "code",
   "execution_count": null,
   "id": "2e6ef6a5-7b68-483d-8ff7-7955a15e668e",
   "metadata": {
    "tags": []
   },
   "outputs": [],
   "source": [
    "to_date = dt.date.today()\n",
    "from_date = to_date - dt.timedelta(days=30)"
   ]
  },
  {
   "cell_type": "code",
   "execution_count": null,
   "id": "45ba1423-f10b-46c0-9037-6276139a540e",
   "metadata": {
    "tags": []
   },
   "outputs": [],
   "source": [
    "df_orders = get_orders(from_date, to_date)"
   ]
  },
  {
   "cell_type": "code",
   "execution_count": null,
   "id": "9a4bf205-8e3f-4480-a563-4b28d00eaac9",
   "metadata": {
    "tags": []
   },
   "outputs": [],
   "source": [
    "df_orders_grouped = df_orders.groupby(['brand','style'], as_index=False)['quantity'].sum()"
   ]
  },
  {
   "cell_type": "code",
   "execution_count": null,
   "id": "a6a364b3-5992-43d4-8cc6-cafd9302aed3",
   "metadata": {
    "tags": []
   },
   "outputs": [],
   "source": [
    "df_final = (\n",
    "    df_products_to_score[['brand','style','product_name']]\n",
    "    .merge(df_orders_grouped, on=['brand','style'], how='inner')\n",
    "    .fillna(0)\n",
    "    .sort_values('quantity',ascending=False)\\\n",
    "    .reset_index(drop=True)\n",
    ")"
   ]
  },
  {
   "cell_type": "code",
   "execution_count": null,
   "id": "a749ad52-4d03-4eef-952d-9cca0f684870",
   "metadata": {
    "tags": []
   },
   "outputs": [],
   "source": [
    "df_final"
   ]
  },
  {
   "cell_type": "code",
   "execution_count": null,
   "id": "17c889da-8680-4a4b-9a50-b21d77ca4395",
   "metadata": {
    "tags": []
   },
   "outputs": [],
   "source": [
    "from client_based_code.kickz_code import get_all_products, get_orders,get_google_ads_data,get_style_items_categories,get_quantities_from_inventory"
   ]
  },
  {
   "cell_type": "code",
   "execution_count": null,
   "id": "cfa0c4f2-b1e4-4664-b6bc-e8e8ace1f3a5",
   "metadata": {
    "tags": []
   },
   "outputs": [],
   "source": [
    "df = get_google_ads_data(dt.date(2025,9,1), dt.date.today())"
   ]
  },
  {
   "cell_type": "code",
   "execution_count": null,
   "id": "733d6105-0bc1-4618-a802-231316f47de2",
   "metadata": {
    "tags": []
   },
   "outputs": [],
   "source": [
    "df"
   ]
  },
  {
   "cell_type": "code",
   "execution_count": null,
   "id": "00546b7e-d2df-4901-8700-7afa5952b63b",
   "metadata": {
    "tags": []
   },
   "outputs": [],
   "source": [
    "df= get_quantities_from_inventory()"
   ]
  },
  {
   "cell_type": "code",
   "execution_count": null,
   "id": "48683697-3169-4f63-a051-ed20b27bd917",
   "metadata": {},
   "outputs": [],
   "source": [
    "df"
   ]
  },
  {
   "cell_type": "code",
   "execution_count": null,
   "id": "ac2e424e-959e-4575-8d90-1fe77c9a8171",
   "metadata": {},
   "outputs": [],
   "source": []
  },
  {
   "cell_type": "code",
   "execution_count": null,
   "id": "bda4c894-9b96-4844-b204-04e51a43af4b",
   "metadata": {
    "tags": []
   },
   "outputs": [],
   "source": [
    "import pandas as pd"
   ]
  },
  {
   "cell_type": "code",
   "execution_count": null,
   "id": "50c66903-e3ec-416c-9385-bd99453d71a3",
   "metadata": {
    "tags": []
   },
   "outputs": [],
   "source": [
    "df = pd.read_parquet('backup/df_recommendations_20250922.parquet')"
   ]
  },
  {
   "cell_type": "code",
   "execution_count": null,
   "id": "8d6ddef1-d5a7-480f-9874-11bd09df5e7b",
   "metadata": {
    "tags": []
   },
   "outputs": [],
   "source": [
    "df.groupby(['category','recom_change']).size()"
   ]
  },
  {
   "cell_type": "code",
   "execution_count": null,
   "id": "b3c786f0-239b-4791-9651-d37f1fe09e56",
   "metadata": {
    "tags": []
   },
   "outputs": [],
   "source": [
    "df[['style', 'country_code','impressions_demand','ctr_demand']]"
   ]
  },
  {
   "cell_type": "code",
   "execution_count": null,
   "id": "cb7d785c-4316-4e55-ab32-efca7309294c",
   "metadata": {
    "tags": []
   },
   "outputs": [],
   "source": [
    "import datetime as dt \n",
    "from client_based_code.kickz_code import get_google_ads_data\n",
    "\n",
    "def adjust_gads_data(df_gads):\n",
    "    df_gads.loc[df_gads['clicks'] > df_gads['impressions'],'impressions'] = df_gads.loc[df_gads['clicks']> df_gads['impressions'],'clicks']\n",
    "    df_gads['ctr'] = df_gads['clicks'].divide(df_gads['impressions']).fillna(0)\n",
    "\n",
    "    return df_gads\n",
    "\n",
    "today = dt.date.today()\n",
    "\n",
    "last_week_start = today - dt.timedelta(7)\n",
    "week_before_start = today - dt.timedelta(14)\n",
    "\n",
    "df_gads_last_week = adjust_gads_data(get_google_ads_data(last_week_start))\n",
    "df_gads_week_before = adjust_gads_data(get_google_ads_data(week_before_start, last_week_start))\n",
    "\n",
    "df_gads_ratio = df_gads_last_week.merge(\n",
    "    df_gads_week_before,\n",
    "    left_on = ['country_code','style','brand'],\n",
    "    right_on = ['country_code','style', 'brand'],\n",
    "    suffixes = ('_last_week','_week_before')\n",
    "    )\\\n",
    "     .assign(\n",
    "        clicks_ratio = lambda x: x['clicks_last_week'] / x['clicks_week_before'],\n",
    "        impresions_ratio = lambda x: x['impressions_last_week'] / x['impressions_week_before'],\n",
    "        ctr_ratio =lambda x: x['ctr_last_week'] / x['ctr_week_before']\n",
    "    )\\\n",
    "    .fillna(0)\n",
    "\n",
    "df_gads_ratio = df_gads_ratio[['country_code','style','clicks_ratio', 'impresions_ratio', 'ctr_ratio']]\n"
   ]
  },
  {
   "cell_type": "code",
   "execution_count": null,
   "id": "1c10ca58-77b8-4619-a74d-a82bf960b56f",
   "metadata": {
    "tags": []
   },
   "outputs": [],
   "source": [
    "df_gads_ratio[df_gads_ratio['style'].str.contains('5620')]"
   ]
  },
  {
   "cell_type": "code",
   "execution_count": null,
   "id": "a6c7fa86-ce30-45c9-9875-b01bf738a120",
   "metadata": {
    "tags": []
   },
   "outputs": [],
   "source": [
    "df[['style', 'country_code']]"
   ]
  },
  {
   "cell_type": "code",
   "execution_count": null,
   "id": "14c7474c-76f0-4cff-892f-b7e4021e6576",
   "metadata": {
    "tags": []
   },
   "outputs": [],
   "source": [
    "df_gads_ratio.merge(df[['style', 'country_code']], on=['style', 'country_code'])"
   ]
  },
  {
   "cell_type": "code",
   "execution_count": null,
   "id": "9af079c5-2c76-4d04-b9ea-11e085397efc",
   "metadata": {
    "tags": []
   },
   "outputs": [],
   "source": [
    "df[df['style'] == 'fn2651-100'][['country_code', 'impressions_demand','ctr_demand']]"
   ]
  },
  {
   "cell_type": "code",
   "execution_count": null,
   "id": "3eb63044-a22f-4567-b1b4-5fccfeb74be8",
   "metadata": {},
   "outputs": [],
   "source": []
  },
  {
   "cell_type": "code",
   "execution_count": null,
   "id": "3345c475-94ca-4924-982b-e5408de861de",
   "metadata": {},
   "outputs": [],
   "source": []
  },
  {
   "cell_type": "code",
   "execution_count": null,
   "id": "8e6b3eba-84d7-404b-a030-fc7db545ae38",
   "metadata": {
    "tags": []
   },
   "outputs": [],
   "source": [
    "import pandas as pd\n",
    "import logging\n",
    "import sentry_sdk\n",
    "from sentry_sdk.integrations.logging import LoggingIntegration\n",
    "from libs.logger import Logger\n",
    "from update_prices import PricingLogic\n",
    "from settings import kickz"
   ]
  },
  {
   "cell_type": "code",
   "execution_count": null,
   "id": "5276cb72-1e6d-490d-8b42-24f126b9f3b6",
   "metadata": {
    "tags": []
   },
   "outputs": [],
   "source": [
    "# logging\n",
    "logger = Logger().get_full_logger(\n",
    "    filename='./logs/update_prices.log',\n",
    "    log_level=logging.INFO,\n",
    "    print_level=logging.INFO\n",
    ")"
   ]
  },
  {
   "cell_type": "code",
   "execution_count": null,
   "id": "78a57fd0-2bb7-4c78-a184-1b66c7477e13",
   "metadata": {
    "tags": []
   },
   "outputs": [],
   "source": [
    "updater = PricingLogic(settings=kickz)\n",
    "#updater.run(insert_into_production=False, insert_into_s3=False)"
   ]
  },
  {
   "cell_type": "code",
   "execution_count": null,
   "id": "a5f7ba75-b543-40a9-a291-55de97acdbdc",
   "metadata": {
    "tags": []
   },
   "outputs": [],
   "source": [
    "updater._load_conversion_rates()"
   ]
  },
  {
   "cell_type": "code",
   "execution_count": null,
   "id": "67f43856-2194-4a17-851d-5c173ca0a4f6",
   "metadata": {
    "tags": []
   },
   "outputs": [],
   "source": [
    "df_recommendations = pd.read_parquet('backup/df_recommendations_20250929.parquet')"
   ]
  },
  {
   "cell_type": "code",
   "execution_count": null,
   "id": "4c329bdf-2196-429d-b993-9766a44b4d55",
   "metadata": {
    "tags": []
   },
   "outputs": [],
   "source": [
    "df_recommendations"
   ]
  },
  {
   "cell_type": "code",
   "execution_count": null,
   "id": "c9041976-b4f9-4f34-82f8-84e589fdd9d4",
   "metadata": {
    "tags": []
   },
   "outputs": [],
   "source": [
    "df_recommendations = df_recommendations[\n",
    "    (~df_recommendations['recom_price'].isnull())\n",
    "  & (~df_recommendations['base_price'].isnull())\n",
    "  & (df_recommendations['recom_change'] != 'NOT ENOUGH DATA')\n",
    "  & (df_recommendations['master_switch'] == 1)\n",
    "]\n",
    "\n",
    "# CHECK NA CHYBNE CENY \n",
    "MAX_DISCOUNT = 0.1 # 1 - maximalna mozna zlava ktoru je mozne dat na produkt \n",
    "df_recommendations = df_recommendations[\n",
    "    (df_recommendations['recom_price'].between(df_recommendations['base_price']*MAX_DISCOUNT, df_recommendations['base_price']))\n",
    "  & (df_recommendations['base_price'] > 0)\n",
    "]\n",
    "\n",
    "# currency mapper\n",
    "df_recommendations['currency'] = df_recommendations['country_code'].apply(lambda country_code: COUNTRY_CODE_CURRENCY_MAPPER[country_code])"
   ]
  },
  {
   "cell_type": "code",
   "execution_count": null,
   "id": "ad022d13-dc61-40c8-8c51-8345be20c7c0",
   "metadata": {
    "tags": []
   },
   "outputs": [],
   "source": [
    "df_recommendations"
   ]
  },
  {
   "cell_type": "code",
   "execution_count": null,
   "id": "b572068e-0334-435b-b7e2-aa9a9492ee65",
   "metadata": {
    "tags": []
   },
   "outputs": [],
   "source": [
    "df_recommendations.apply(lambda row: row['recom_price'] * self.conversion_rates[row['currency']], axis=1)"
   ]
  },
  {
   "cell_type": "code",
   "execution_count": null,
   "id": "7fa3b523-0c64-4da3-85c2-f4b80eddcca7",
   "metadata": {
    "tags": []
   },
   "outputs": [],
   "source": [
    "df_recommendations['recom_price_local_currency'] = df_recommendations.apply(lambda row: row['recom_price'] * self.conversion_rates[row['currency']], axis=1)"
   ]
  },
  {
   "cell_type": "code",
   "execution_count": null,
   "id": "bc5af09d-c5a6-4adf-b66b-0c8d72f047c5",
   "metadata": {},
   "outputs": [],
   "source": []
  },
  {
   "cell_type": "code",
   "execution_count": null,
   "id": "4c489d6b-d85f-40fe-bd15-0587c663a425",
   "metadata": {
    "tags": []
   },
   "outputs": [],
   "source": [
    "df_recommendations = updater.df_recommendations"
   ]
  },
  {
   "cell_type": "code",
   "execution_count": null,
   "id": "b28ed593-8cdb-458e-9c14-4404c3376959",
   "metadata": {
    "tags": []
   },
   "outputs": [],
   "source": [
    "df_recommendations['our_min_possible_price'] = df_recommendations['base_price'] * (1 - df_recommendations['max_discount'])\n",
    "df_recommendations['our_max_possible_price'] = df_recommendations['base_price'] * (1 - df_recommendations['min_discount'])"
   ]
  },
  {
   "cell_type": "code",
   "execution_count": null,
   "id": "ace44598-248d-47ef-af4d-9a9848fd2fa8",
   "metadata": {
    "tags": []
   },
   "outputs": [],
   "source": [
    "df_imp = df_recommendations[df_recommendations['category'] != 'ST']\n",
    "df_st = df_recommendations[df_recommendations['category'] == 'ST'].query('country_code == \"DE\"')"
   ]
  },
  {
   "cell_type": "code",
   "execution_count": null,
   "id": "df312162-367b-45c8-81d9-5d29fc999f4e",
   "metadata": {
    "tags": []
   },
   "outputs": [],
   "source": [
    "df_imp[['date','brand','style', 'country_code','base_price','price','recom_price','recom_change',\n",
    "        'min_discount', 'max_discount','impressions_demand', 'ctr_demand','total_demand',\n",
    "        'sold_items_7_days','our_min_possible_price','our_max_possible_price']]"
   ]
  },
  {
   "cell_type": "code",
   "execution_count": null,
   "id": "13e3c115-868e-4f66-b6b5-f50b69620e78",
   "metadata": {
    "tags": []
   },
   "outputs": [],
   "source": [
    "from client_based_code.kickz_code import get_google_ads_data,get_quantities_from_inventory\n",
    "import datetime as dt"
   ]
  },
  {
   "cell_type": "code",
   "execution_count": null,
   "id": "98bd8213-d018-4f02-a41c-626e60bfd272",
   "metadata": {
    "tags": []
   },
   "outputs": [],
   "source": [
    "df_gads = get_google_ads_data(from_date=dt.date(2025,9,16))"
   ]
  },
  {
   "cell_type": "code",
   "execution_count": null,
   "id": "241b5e9b-b33f-4cb1-b0cd-1c94d4bd88d7",
   "metadata": {
    "tags": []
   },
   "outputs": [],
   "source": [
    "df_gapi_714_ratios = updater.df_gapi_714_ratios"
   ]
  },
  {
   "cell_type": "code",
   "execution_count": null,
   "id": "89b32f72-0997-4117-9bdc-bb1a60b1ed45",
   "metadata": {
    "tags": []
   },
   "outputs": [],
   "source": [
    "df_gapi_714_ratios[df_gapi_714_ratios['style'] == 'ij5620']"
   ]
  },
  {
   "cell_type": "code",
   "execution_count": null,
   "id": "c348c11e-19a6-495e-a56e-1b0522579b79",
   "metadata": {
    "tags": []
   },
   "outputs": [],
   "source": [
    "df_gads[df_gads['style'].str.contains('ij5620')]"
   ]
  },
  {
   "cell_type": "code",
   "execution_count": null,
   "id": "4e2f117c-2699-4d91-8764-d4cff59d8f1c",
   "metadata": {
    "tags": []
   },
   "outputs": [],
   "source": [
    "df_st[['date','brand','style', 'country_code','base_price','price','recom_price','recom_change',\n",
    "        'min_discount', 'max_discount','sell_power_day','sell_power_week','is_new_product','last_day_sell_power_week','ST_setting','item_category',\n",
    "       'season_length','days_from_season_start',\n",
    "      'sold_items_day','sold_items_season','quantity_in_inventory']].dropna(subset=['base_price'])"
   ]
  },
  {
   "cell_type": "code",
   "execution_count": null,
   "id": "a44cbd9d-1aa8-498e-8d6e-626a6f8c48eb",
   "metadata": {
    "tags": []
   },
   "outputs": [],
   "source": [
    "updater.discount_levels['ST'][('adidas originals','DE')]"
   ]
  },
  {
   "cell_type": "code",
   "execution_count": null,
   "id": "725c4696-dc3d-448d-9af8-e553abf5d488",
   "metadata": {
    "tags": []
   },
   "outputs": [],
   "source": [
    "updater.st_settings"
   ]
  },
  {
   "cell_type": "code",
   "execution_count": null,
   "id": "f4b83026-4051-4d47-94ad-ee753824dd25",
   "metadata": {
    "tags": []
   },
   "outputs": [],
   "source": [
    "df_quantity_in_inventory = get_quantities_from_inventory()"
   ]
  },
  {
   "cell_type": "code",
   "execution_count": null,
   "id": "fe4ed3bd-20c4-4219-9de7-9552df07f31c",
   "metadata": {
    "tags": []
   },
   "outputs": [],
   "source": [
    "df_quantity_in_inventory[df_quantity_in_inventory['style'] == 'ig6213']"
   ]
  },
  {
   "cell_type": "code",
   "execution_count": null,
   "id": "0d94e98d-cbda-4a07-b49a-be251c78d12b",
   "metadata": {
    "tags": []
   },
   "outputs": [],
   "source": [
    "updater.quantities_in_inventory"
   ]
  },
  {
   "cell_type": "code",
   "execution_count": null,
   "id": "a16c8692-d09a-49ea-bd89-eb7d4a1b632c",
   "metadata": {},
   "outputs": [],
   "source": []
  },
  {
   "cell_type": "code",
   "execution_count": null,
   "id": "8ddd5814-fd65-4e54-a1af-7eef90689955",
   "metadata": {
    "tags": []
   },
   "outputs": [],
   "source": [
    "import pandas as pd"
   ]
  },
  {
   "cell_type": "code",
   "execution_count": null,
   "id": "926d66bd-a34d-4c0e-bb4e-c04d9874482e",
   "metadata": {
    "tags": []
   },
   "outputs": [],
   "source": [
    "df_recommendations = pd.read_parquet('backup/df_recommendations_20250924.parquet')"
   ]
  },
  {
   "cell_type": "code",
   "execution_count": null,
   "id": "b6f62818-0226-41ee-b114-27e67e123079",
   "metadata": {
    "tags": []
   },
   "outputs": [],
   "source": [
    "df_recommendations[['brand','style','style_count_all_competitors', 'style_count_important_competitors',\n",
    "       'style_all_competitors_list', 'style_all_competitors_links',\n",
    "       'style_all_competitors_prices', 'style_all_competitors_in_stock',\n",
    "       'style_all_competitors_price_change_day',\n",
    "       'style_important_competitors_list', 'style_important_competitors_links',\n",
    "       'style_important_competitors_prices',\n",
    "       'style_important_competitors_in_stock',\n",
    "       'style_important_competitors_price_change_day']].sort_values('style_count_all_competitors')"
   ]
  },
  {
   "cell_type": "code",
   "execution_count": null,
   "id": "202bec66-aa23-4ca2-af4f-da1478643a19",
   "metadata": {
    "tags": []
   },
   "outputs": [],
   "source": [
    "df_recommendations.sort_values('style_count_all_competitors')"
   ]
  },
  {
   "cell_type": "code",
   "execution_count": null,
   "id": "950c5dc0-7bd1-4712-b196-a473f89e6fed",
   "metadata": {},
   "outputs": [],
   "source": []
  },
  {
   "cell_type": "code",
   "execution_count": null,
   "id": "d2ceca0b-fd3a-4243-9ea8-86f860443905",
   "metadata": {
    "tags": []
   },
   "outputs": [],
   "source": [
    "df_top_100  = df_recommendations.groupby(['brand','style'], as_index=False)[['sold_items_14_days']].sum().sort_values('sold_items_14_days', ascending=False).head(100)"
   ]
  },
  {
   "cell_type": "code",
   "execution_count": null,
   "id": "260710be-7314-4475-8b03-9ed15ecf7d88",
   "metadata": {
    "tags": []
   },
   "outputs": [],
   "source": [
    "df_recommendations['our_min_possible_price'] = df_recommendations['base_price'] * (1 - df_recommendations['max_discount'])\n",
    "df_recommendations['our_max_possible_price'] = df_recommendations['base_price'] * (1 - df_recommendations['min_discount'])"
   ]
  },
  {
   "cell_type": "code",
   "execution_count": null,
   "id": "c38591b5-89b3-4a6b-b580-7bf25d594f0c",
   "metadata": {
    "tags": []
   },
   "outputs": [],
   "source": [
    "df_imp = df_recommendations[df_recommendations['category'] != 'ST']\n",
    "df_st = df_recommendations[df_recommendations['category'] == 'ST'].query('country_code == \"DE\"')"
   ]
  },
  {
   "cell_type": "code",
   "execution_count": null,
   "id": "0b49dc58-7fca-4c4d-93cd-0271f6fa1980",
   "metadata": {
    "tags": []
   },
   "outputs": [],
   "source": [
    "df_imp[['date','brand','style', 'country_code',\n",
    "        'base_price','price','recom_price','recom_change',\n",
    "        'min_discount', 'max_discount','impressions_demand', 'ctr_demand','total_demand',\n",
    "        'sold_items_7_days','our_min_possible_price','our_max_possible_price']]"
   ]
  },
  {
   "cell_type": "code",
   "execution_count": null,
   "id": "bc9975da-c05e-48ea-b816-9ce4e6590b96",
   "metadata": {
    "tags": []
   },
   "outputs": [],
   "source": [
    "df_st[['date','brand','style', 'country_code','base_price','price','recom_price','recom_change',\n",
    "        'min_discount', 'max_discount','sell_power_day','sell_power_week','is_new_product','last_day_sell_power_week','ST_setting','item_category',\n",
    "       'season_length','days_from_season_start',\n",
    "      'sold_items_day','sold_items_season','quantity_in_inventory']].dropna(subset=['base_price'])['recom_change'].value_counts()"
   ]
  },
  {
   "cell_type": "code",
   "execution_count": null,
   "id": "0314c8d8-4a6b-45bc-9be9-8ab03ad52f52",
   "metadata": {
    "tags": []
   },
   "outputs": [],
   "source": [
    "df_sample = df_recommendations.merge(df_top_100[['brand','style']], on=['brand','style'])"
   ]
  },
  {
   "cell_type": "code",
   "execution_count": null,
   "id": "33e165ad-03f8-497f-a74a-9ec7bf51431b",
   "metadata": {
    "tags": []
   },
   "outputs": [],
   "source": [
    "df_sample = df_sample[\n",
    "    (~df_sample['recom_price'].isnull())\n",
    "  & (~df_sample['base_price'].isnull())\n",
    "  & (df_sample['recom_change'] != 'NOT ENOUGH DATA')\n",
    "  & (df_sample['master_switch'] == 1)\n",
    "]"
   ]
  },
  {
   "cell_type": "code",
   "execution_count": null,
   "id": "40cdb662-b22a-4930-9314-6b4525378d0c",
   "metadata": {
    "tags": []
   },
   "outputs": [],
   "source": [
    "export_cols = [\n",
    "    'date',\n",
    "    'brand',\n",
    "    'product_name', \n",
    "    'style',\n",
    "    'country_code',\n",
    "    'category' ,\n",
    "    'price',\n",
    "    'base_price',\n",
    "    'recom_price',\n",
    "    'our_min_possible_price',\n",
    "    'our_max_possible_price',\n",
    "]\n",
    "df_sample['date'] = pd.to_datetime(df_sample['date']).dt.date\n",
    "df_sample[export_cols].round(2).to_csv('kickz_results.csv', index=False)"
   ]
  },
  {
   "cell_type": "code",
   "execution_count": null,
   "id": "1005d218-d71b-48d0-aace-6d0dec3361d0",
   "metadata": {
    "tags": []
   },
   "outputs": [],
   "source": [
    "df_sample['date']"
   ]
  },
  {
   "cell_type": "code",
   "execution_count": null,
   "id": "94f2fe36-3973-4c0a-8811-55852bbaa7fb",
   "metadata": {},
   "outputs": [],
   "source": []
  },
  {
   "cell_type": "code",
   "execution_count": null,
   "id": "6adef28f-b707-42fe-9483-2343d12b09ec",
   "metadata": {
    "tags": []
   },
   "outputs": [],
   "source": [
    "from client_based_code.kickz_code import load_prices"
   ]
  },
  {
   "cell_type": "code",
   "execution_count": null,
   "id": "8144d606-9fcd-4958-bed3-a776d9783fb9",
   "metadata": {
    "tags": []
   },
   "outputs": [],
   "source": [
    "df_prices = load_prices()"
   ]
  },
  {
   "cell_type": "code",
   "execution_count": null,
   "id": "a408089f-1a07-4fb2-b96f-99b605299251",
   "metadata": {
    "tags": []
   },
   "outputs": [],
   "source": [
    "df_prices[df_prices['style'] == 'hq8707']"
   ]
  },
  {
   "cell_type": "code",
   "execution_count": null,
   "id": "376ab537-671f-45de-a60d-0ffede2597ae",
   "metadata": {
    "tags": []
   },
   "outputs": [],
   "source": [
    "df_prices['price_local'].round()"
   ]
  },
  {
   "cell_type": "code",
   "execution_count": null,
   "id": "a3fe0995-112d-4bc3-8d3d-81249c7bcfc0",
   "metadata": {
    "tags": []
   },
   "outputs": [],
   "source": [
    "round(5.10)"
   ]
  },
  {
   "cell_type": "code",
   "execution_count": null,
   "id": "6a4ee9ac-47b9-40e2-ae52-bd3103758124",
   "metadata": {},
   "outputs": [],
   "source": []
  },
  {
   "cell_type": "code",
   "execution_count": null,
   "id": "ff6482a3-e74a-48da-85ae-22145b0a3a94",
   "metadata": {
    "tags": []
   },
   "outputs": [],
   "source": [
    "from client_based_code.kickz_code import load_competitors_data\n",
    "import datetime as dt"
   ]
  },
  {
   "cell_type": "code",
   "execution_count": null,
   "id": "16881e2a-d59f-469d-8f1e-7d07bb00769c",
   "metadata": {},
   "outputs": [],
   "source": []
  },
  {
   "cell_type": "code",
   "execution_count": null,
   "id": "53d35174-e3c1-4d67-acd0-5cff38e7d0ae",
   "metadata": {},
   "outputs": [],
   "source": []
  },
  {
   "cell_type": "code",
   "execution_count": null,
   "id": "710ce5b1-57fc-4459-987c-ddf6946e00fd",
   "metadata": {},
   "outputs": [],
   "source": []
  },
  {
   "cell_type": "code",
   "execution_count": null,
   "id": "f6a485c3-6996-4162-aa2c-258360095ce9",
   "metadata": {
    "tags": []
   },
   "outputs": [],
   "source": [
    "from libs.help_functions import (\n",
    "    COUNTRY_CODE_CURRENCY_MAPPER,\n",
    "    is_our_shop,\n",
    "    countryCompetitors2dict,\n",
    "    clean_country_competitors,\n",
    "    is_important_competitor\n",
    ")"
   ]
  },
  {
   "cell_type": "code",
   "execution_count": null,
   "id": "48196090-9b85-4ffa-9644-5c5055c394bb",
   "metadata": {
    "tags": []
   },
   "outputs": [],
   "source": [
    "from_date = dt.date.today() - dt.timedelta(days=3)\n",
    "to_date = dt.date.today()"
   ]
  },
  {
   "cell_type": "code",
   "execution_count": null,
   "id": "cd118147-7180-4095-b791-a7f67d8b01f8",
   "metadata": {
    "tags": []
   },
   "outputs": [],
   "source": [
    "import json\n",
    "\n",
    "with open(\"auth_files/eas-core-34afc8b13f75.json\", \"r\") as f:\n",
    "    credentials = json.load(f)"
   ]
  },
  {
   "cell_type": "code",
   "execution_count": null,
   "id": "19049842-5acf-4db0-83e8-0c31a262202b",
   "metadata": {
    "tags": []
   },
   "outputs": [],
   "source": [
    "df = load_competitors_data(credentials, from_date, to_date, 90)"
   ]
  },
  {
   "cell_type": "code",
   "execution_count": null,
   "id": "9b54128b-dd3a-4b13-8a1e-63a0028e7532",
   "metadata": {
    "tags": []
   },
   "outputs": [],
   "source": [
    "df"
   ]
  },
  {
   "cell_type": "code",
   "execution_count": null,
   "id": "c5542f7e-99cb-4c6e-939f-d97d0a5035eb",
   "metadata": {
    "tags": []
   },
   "outputs": [],
   "source": [
    "df['currency'] = df.apply(\n",
    "    lambda row: COUNTRY_CODE_CURRENCY_MAPPER[row['country_code']] \n",
    "    if row['currency'] == '' \n",
    "    else row['currency'],\n",
    "    axis=1\n",
    ")"
   ]
  },
  {
   "cell_type": "code",
   "execution_count": null,
   "id": "c6c41ad4-ec18-4c00-9ed3-1fb4306ec374",
   "metadata": {
    "tags": []
   },
   "outputs": [],
   "source": [
    "df['is_our_shop'] = df.apply(\n",
    "    lambda row: is_our_shop(row['url'], row['competitor_shop_name'],['kickz']), \n",
    "    axis=1\n",
    ")"
   ]
  },
  {
   "cell_type": "code",
   "execution_count": null,
   "id": "e149cf57-d4ff-4417-80d3-1285a714fff1",
   "metadata": {
    "tags": []
   },
   "outputs": [],
   "source": [
    "df['is_important_competitor'] = df.apply(\n",
    "    lambda row: is_important_competitor(row, country_competitors, 90),\n",
    "    axis=1\n",
    ")"
   ]
  },
  {
   "cell_type": "code",
   "execution_count": null,
   "id": "5787ee52-505c-4c7d-9de0-73d9a947bc25",
   "metadata": {
    "tags": []
   },
   "outputs": [],
   "source": [
    "df[df['is_important_competitor']]"
   ]
  },
  {
   "cell_type": "code",
   "execution_count": null,
   "id": "edbc7bc3-6639-4c8f-948a-7d9f43ccc8de",
   "metadata": {
    "tags": []
   },
   "outputs": [],
   "source": [
    "df_competitors = gapi.google_sheet2df(gs_spreadsheet_id, 'relevant_competitors')\n",
    "        \n",
    "# dictionary\n",
    "country_competitors = countryCompetitors2dict(df_competitors)\n",
    "\n",
    "# Ocisti konkurenciu\n",
    "# 'store.nike.com' => 'nike'\n",
    "# 'https://www.runningpro.sk/' => 'runningpro'\n",
    "# ...\n",
    "country_competitors = clean_country_competitors(country_competitors)"
   ]
  },
  {
   "cell_type": "code",
   "execution_count": null,
   "id": "bbc0ddbc-7a87-4e85-8e49-6ec844ef193a",
   "metadata": {
    "tags": []
   },
   "outputs": [],
   "source": [
    "country_competitors"
   ]
  },
  {
   "cell_type": "code",
   "execution_count": null,
   "id": "ad1fcea3-dc0e-42fe-b891-826fea1cb410",
   "metadata": {
    "tags": []
   },
   "outputs": [],
   "source": [
    "import pandas as pd\n",
    "import datetime as dt"
   ]
  },
  {
   "cell_type": "code",
   "execution_count": null,
   "id": "a9ba742a-d4db-48dc-ba72-f5c078568be6",
   "metadata": {
    "tags": []
   },
   "outputs": [],
   "source": [
    "df = pd.read_parquet('s3://autopricing/kickz/products_to_score/20250925210451.parquet')"
   ]
  },
  {
   "cell_type": "code",
   "execution_count": null,
   "id": "cfc48159-de60-4312-a948-c126a40cedf3",
   "metadata": {},
   "outputs": [],
   "source": [
    "pd.to_datetime(df['date_added'], dayfirst=False)"
   ]
  },
  {
   "cell_type": "code",
   "execution_count": null,
   "id": "102de684-8658-4dd0-948f-ac6fdc86ed51",
   "metadata": {},
   "outputs": [],
   "source": []
  },
  {
   "cell_type": "code",
   "execution_count": null,
   "id": "221b5eef-ac21-4658-8661-502decdcc11a",
   "metadata": {
    "tags": []
   },
   "outputs": [],
   "source": [
    "df = pd.read_parquet('ap_export.parquet')"
   ]
  },
  {
   "cell_type": "code",
   "execution_count": null,
   "id": "4aac4d80-a703-48be-806e-b71b001791ef",
   "metadata": {
    "tags": []
   },
   "outputs": [],
   "source": [
    "SQL = \"\"\"\n",
    "SELECT      \n",
    "        LOWER(TRIM(brand)) AS brand,\n",
    "        LOWER(TRIM(style_id)) AS style,\n",
    "        TRIM(material_number) AS material_number\n",
    "FROM [rawone11].[v_pim_articles_data]\n",
    "WHERE item_shop_active_kickz = 1\n",
    "    AND name IS NOT NULL\n",
    "    AND style_id IS NOT NULL\n",
    "    AND brand IS NOT NULL;\n",
    "\"\"\""
   ]
  },
  {
   "cell_type": "code",
   "execution_count": null,
   "id": "65fed019-b839-4280-a2d1-48eeffa07293",
   "metadata": {
    "tags": []
   },
   "outputs": [],
   "source": [
    "with pyodbc.connect(CONNECTION_STRING) as con:\n",
    "    df_mapper = pd.read_sql(SQL, con)"
   ]
  },
  {
   "cell_type": "code",
   "execution_count": null,
   "id": "73826bbd-7585-4a4b-b769-5f348acc234c",
   "metadata": {
    "tags": []
   },
   "outputs": [],
   "source": [
    "x = df.merge(df_mapper, on=['brand','style'])"
   ]
  },
  {
   "cell_type": "code",
   "execution_count": null,
   "id": "a8981825-63b7-4a49-b12c-1a5686bb3c21",
   "metadata": {
    "tags": []
   },
   "outputs": [],
   "source": [
    "x['export_country_code'] = 'kickz-' + x['country_code']\n",
    "x['export_status'] = 'DISCOUNT'\n",
    "x['export_from_date'] = x['date'].dt.strftime(\"%Y-%m-%dT%H:00:00\")\n",
    "x['export_to_date'] = pd.to_datetime(dt.datetime(2100,1,1)).strftime(\"%Y-%m-%dT%H:00:00\")"
   ]
  },
  {
   "cell_type": "code",
   "execution_count": null,
   "id": "813a8da6-ca31-4fc0-8d58-d31e977f0ff0",
   "metadata": {
    "tags": []
   },
   "outputs": [],
   "source": [
    "df_export = x[['material_number', 'recom_price_local_currency','export_status','export_from_date','export_to_date','export_country_code','currency']]"
   ]
  },
  {
   "cell_type": "code",
   "execution_count": null,
   "id": "e797bb2c-0002-4fbc-bd01-af688f348f79",
   "metadata": {
    "tags": []
   },
   "outputs": [],
   "source": [
    "df_export"
   ]
  },
  {
   "cell_type": "code",
   "execution_count": null,
   "id": "779eb1d5-c2d2-4a82-9e5d-6ec778222ff4",
   "metadata": {
    "tags": []
   },
   "outputs": [],
   "source": [
    "csv_data = df_export.head(10).to_csv(index=False, header=False, sep=';')\n"
   ]
  },
  {
   "cell_type": "code",
   "execution_count": null,
   "id": "39b74521-ad9d-4100-9645-c377cd2f4f04",
   "metadata": {
    "tags": []
   },
   "outputs": [],
   "source": [
    "csv_data"
   ]
  },
  {
   "cell_type": "code",
   "execution_count": null,
   "id": "4589a1ec-9744-4dd3-90db-409cc3ca9198",
   "metadata": {
    "tags": []
   },
   "outputs": [],
   "source": [
    "def generate_filename(prefix=\"master/hotfolder/kickz/prices\"):\n",
    "    # current UTC time\n",
    "    now = dt.datetime.now(dt.timezone.utc)\n",
    "    \n",
    "    # Unix timestamp in milliseconds\n",
    "    ts_millis = int(now.timestamp() * 1000)\n",
    "    \n",
    "    # Human-readable timestamp (ISO-like) with milliseconds and Z\n",
    "    dt_str = now.strftime(\"%Y-%m-%dT%H-%M-%S.%f\")[:-3] + \"Z\"\n",
    "    \n",
    "    # Build filename\n",
    "    filename = f\"{prefix}-{ts_millis}.csv.{dt_str}\"\n",
    "    \n",
    "    return filename\n",
    "\n",
    "# Example usage\n",
    "blob_name = generate_filename()"
   ]
  },
  {
   "cell_type": "code",
   "execution_count": null,
   "id": "e5883573-4760-48b8-82f8-78140454a68f",
   "metadata": {
    "tags": []
   },
   "outputs": [],
   "source": [
    "blob_name"
   ]
  },
  {
   "cell_type": "code",
   "execution_count": null,
   "id": "6dc42729-5d5f-4f83-ae1d-35f19097c80d",
   "metadata": {
    "tags": []
   },
   "outputs": [],
   "source": [
    "connection_string = (\n",
    "    \"DefaultEndpointsProtocol=https;\"\n",
    "    \"AccountName=o3w4n3fotw789gttys79amu;\"\n",
    "    \"AccountKey=ltkXAjB76EPhkIfKM9Drmnn9k8XP8Zvb4d5ymrmQCGNbmFWeHHYGZvtB7VJuwnRiZHc64vN62cdO+AStQeCLVg==;\"\n",
    "    \"EndpointSuffix=core.windows.net\"\n",
    ")\n",
    "container_name = \"hybris\"\n",
    "\n",
    "\n",
    "# Create blob client\n",
    "blob_service_client = BlobServiceClient.from_connection_string(connection_string)\n",
    "blob_client = blob_service_client.get_blob_client(container=container_name, blob=blob_name)\n",
    "\n",
    "# Upload CSV\n",
    "blob_client.upload_blob(csv_data, overwrite=True)\n",
    "print(\"✅ DataFrame uploaded successfully as CSV (no header).\")"
   ]
  },
  {
   "cell_type": "code",
   "execution_count": null,
   "id": "3c486cea-8de5-47c5-b22b-87c019731c43",
   "metadata": {},
   "outputs": [],
   "source": []
  },
  {
   "cell_type": "code",
   "execution_count": null,
   "id": "7b0fa406-c55c-4496-91aa-99202e5fbfdf",
   "metadata": {
    "tags": []
   },
   "outputs": [],
   "source": [
    "export_blob_name = \"master/hotfolder/kickz/prices-{ts_millis}.csv\""
   ]
  },
  {
   "cell_type": "code",
   "execution_count": null,
   "id": "5a644761-5b32-4494-800e-2943a621e140",
   "metadata": {
    "tags": []
   },
   "outputs": [],
   "source": [
    "export_blob_name.format(ts_millis='dsdsd')"
   ]
  },
  {
   "cell_type": "code",
   "execution_count": null,
   "id": "2c6e821d-e6d5-46d8-b282-1f0d2295208b",
   "metadata": {},
   "outputs": [],
   "source": []
  },
  {
   "cell_type": "code",
   "execution_count": 1,
   "id": "d4130c6d-ff19-4da1-a75f-831bfd11e366",
   "metadata": {
    "tags": []
   },
   "outputs": [],
   "source": [
    "import pandas as pd\n",
    "import settings.kickz as settings\n",
    "from libs.help_functions import upload_dataframe_to_azure_blob_storage\n",
    "from client_based_code.kickz_code import load_material_number_mapper,load_prices"
   ]
  },
  {
   "cell_type": "code",
   "execution_count": null,
   "id": "49af11e6-5a9f-485d-9643-d4c67efd0bf8",
   "metadata": {
    "tags": []
   },
   "outputs": [],
   "source": [
    "a = load_prices()"
   ]
  },
  {
   "cell_type": "code",
   "execution_count": null,
   "id": "f9205c56-0d5f-4beb-b530-83ed5c916f17",
   "metadata": {
    "tags": []
   },
   "outputs": [],
   "source": [
    "a"
   ]
  },
  {
   "cell_type": "code",
   "execution_count": 2,
   "id": "78ba21d7-ab7e-4e40-9ba1-60377007fc85",
   "metadata": {
    "tags": []
   },
   "outputs": [],
   "source": [
    "df = pd.read_parquet('ap_export.parquet')"
   ]
  },
  {
   "cell_type": "code",
   "execution_count": 16,
   "id": "015c22b8-bfcf-441e-b631-be8114dfe5c8",
   "metadata": {
    "tags": []
   },
   "outputs": [],
   "source": [
    "df = df[df['material_number'] != 'Not Defined']"
   ]
  },
  {
   "cell_type": "code",
   "execution_count": 22,
   "id": "e00e326f-d07e-4a66-96fd-7a89424bb5b6",
   "metadata": {
    "tags": []
   },
   "outputs": [
    {
     "data": {
      "text/html": [
       "<div>\n",
       "<style scoped>\n",
       "    .dataframe tbody tr th:only-of-type {\n",
       "        vertical-align: middle;\n",
       "    }\n",
       "\n",
       "    .dataframe tbody tr th {\n",
       "        vertical-align: top;\n",
       "    }\n",
       "\n",
       "    .dataframe thead th {\n",
       "        text-align: right;\n",
       "    }\n",
       "</style>\n",
       "<table border=\"1\" class=\"dataframe\">\n",
       "  <thead>\n",
       "    <tr style=\"text-align: right;\">\n",
       "      <th></th>\n",
       "      <th>material_number</th>\n",
       "      <th>recom_price_local_currency</th>\n",
       "      <th>export_status</th>\n",
       "      <th>export_from_date</th>\n",
       "      <th>export_to_date</th>\n",
       "      <th>export_country_code</th>\n",
       "      <th>currency</th>\n",
       "    </tr>\n",
       "  </thead>\n",
       "  <tbody>\n",
       "    <tr>\n",
       "      <th>1</th>\n",
       "      <td>IJ5626-M</td>\n",
       "      <td>22.95</td>\n",
       "      <td>ORIGINAL</td>\n",
       "      <td>2025-10-08T13:00:00</td>\n",
       "      <td>2100-01-01T00:00:00</td>\n",
       "      <td>kickz-DE</td>\n",
       "      <td>EUR</td>\n",
       "    </tr>\n",
       "    <tr>\n",
       "      <th>7</th>\n",
       "      <td>IJ5626-M</td>\n",
       "      <td>22.95</td>\n",
       "      <td>ORIGINAL</td>\n",
       "      <td>2025-10-08T13:00:00</td>\n",
       "      <td>2100-01-01T00:00:00</td>\n",
       "      <td>kickz-ES</td>\n",
       "      <td>EUR</td>\n",
       "    </tr>\n",
       "    <tr>\n",
       "      <th>13</th>\n",
       "      <td>IJ5626-M</td>\n",
       "      <td>22.95</td>\n",
       "      <td>ORIGINAL</td>\n",
       "      <td>2025-10-08T13:00:00</td>\n",
       "      <td>2100-01-01T00:00:00</td>\n",
       "      <td>kickz-FR</td>\n",
       "      <td>EUR</td>\n",
       "    </tr>\n",
       "    <tr>\n",
       "      <th>19</th>\n",
       "      <td>IJ5626-M</td>\n",
       "      <td>22.95</td>\n",
       "      <td>ORIGINAL</td>\n",
       "      <td>2025-10-08T13:00:00</td>\n",
       "      <td>2100-01-01T00:00:00</td>\n",
       "      <td>kickz-IT</td>\n",
       "      <td>EUR</td>\n",
       "    </tr>\n",
       "    <tr>\n",
       "      <th>25</th>\n",
       "      <td>IJ5626-M</td>\n",
       "      <td>22.95</td>\n",
       "      <td>ORIGINAL</td>\n",
       "      <td>2025-10-08T13:00:00</td>\n",
       "      <td>2100-01-01T00:00:00</td>\n",
       "      <td>kickz-AT</td>\n",
       "      <td>EUR</td>\n",
       "    </tr>\n",
       "    <tr>\n",
       "      <th>31</th>\n",
       "      <td>IJ5626-M</td>\n",
       "      <td>22.95</td>\n",
       "      <td>ORIGINAL</td>\n",
       "      <td>2025-10-08T13:00:00</td>\n",
       "      <td>2100-01-01T00:00:00</td>\n",
       "      <td>kickz-NL</td>\n",
       "      <td>EUR</td>\n",
       "    </tr>\n",
       "    <tr>\n",
       "      <th>37</th>\n",
       "      <td>IJ5626-M</td>\n",
       "      <td>22.95</td>\n",
       "      <td>ORIGINAL</td>\n",
       "      <td>2025-10-08T13:00:00</td>\n",
       "      <td>2100-01-01T00:00:00</td>\n",
       "      <td>kickz-BE</td>\n",
       "      <td>EUR</td>\n",
       "    </tr>\n",
       "    <tr>\n",
       "      <th>43</th>\n",
       "      <td>IJ5626-M</td>\n",
       "      <td>22.95</td>\n",
       "      <td>ORIGINAL</td>\n",
       "      <td>2025-10-08T13:00:00</td>\n",
       "      <td>2100-01-01T00:00:00</td>\n",
       "      <td>kickz-DK</td>\n",
       "      <td>EUR</td>\n",
       "    </tr>\n",
       "    <tr>\n",
       "      <th>49</th>\n",
       "      <td>IJ5626-M</td>\n",
       "      <td>22.95</td>\n",
       "      <td>ORIGINAL</td>\n",
       "      <td>2025-10-08T13:00:00</td>\n",
       "      <td>2100-01-01T00:00:00</td>\n",
       "      <td>kickz-FI</td>\n",
       "      <td>EUR</td>\n",
       "    </tr>\n",
       "    <tr>\n",
       "      <th>55</th>\n",
       "      <td>IJ5626-M</td>\n",
       "      <td>22.95</td>\n",
       "      <td>ORIGINAL</td>\n",
       "      <td>2025-10-08T13:00:00</td>\n",
       "      <td>2100-01-01T00:00:00</td>\n",
       "      <td>kickz-NO</td>\n",
       "      <td>EUR</td>\n",
       "    </tr>\n",
       "    <tr>\n",
       "      <th>61</th>\n",
       "      <td>IJ5626-M</td>\n",
       "      <td>26.95</td>\n",
       "      <td>DISCOUNT</td>\n",
       "      <td>2025-10-08T13:00:00</td>\n",
       "      <td>2100-01-01T00:00:00</td>\n",
       "      <td>kickz-CH</td>\n",
       "      <td>CHF</td>\n",
       "    </tr>\n",
       "    <tr>\n",
       "      <th>67</th>\n",
       "      <td>IJ5626-M</td>\n",
       "      <td>22.95</td>\n",
       "      <td>ORIGINAL</td>\n",
       "      <td>2025-10-08T13:00:00</td>\n",
       "      <td>2100-01-01T00:00:00</td>\n",
       "      <td>kickz-SE</td>\n",
       "      <td>EUR</td>\n",
       "    </tr>\n",
       "    <tr>\n",
       "      <th>73</th>\n",
       "      <td>IJ5626-M</td>\n",
       "      <td>19.95</td>\n",
       "      <td>ORIGINAL</td>\n",
       "      <td>2025-10-08T13:00:00</td>\n",
       "      <td>2100-01-01T00:00:00</td>\n",
       "      <td>kickz-UK</td>\n",
       "      <td>GBP</td>\n",
       "    </tr>\n",
       "  </tbody>\n",
       "</table>\n",
       "</div>"
      ],
      "text/plain": [
       "   material_number  recom_price_local_currency export_status  \\\n",
       "1         IJ5626-M                       22.95      ORIGINAL   \n",
       "7         IJ5626-M                       22.95      ORIGINAL   \n",
       "13        IJ5626-M                       22.95      ORIGINAL   \n",
       "19        IJ5626-M                       22.95      ORIGINAL   \n",
       "25        IJ5626-M                       22.95      ORIGINAL   \n",
       "31        IJ5626-M                       22.95      ORIGINAL   \n",
       "37        IJ5626-M                       22.95      ORIGINAL   \n",
       "43        IJ5626-M                       22.95      ORIGINAL   \n",
       "49        IJ5626-M                       22.95      ORIGINAL   \n",
       "55        IJ5626-M                       22.95      ORIGINAL   \n",
       "61        IJ5626-M                       26.95      DISCOUNT   \n",
       "67        IJ5626-M                       22.95      ORIGINAL   \n",
       "73        IJ5626-M                       19.95      ORIGINAL   \n",
       "\n",
       "       export_from_date       export_to_date export_country_code currency  \n",
       "1   2025-10-08T13:00:00  2100-01-01T00:00:00            kickz-DE      EUR  \n",
       "7   2025-10-08T13:00:00  2100-01-01T00:00:00            kickz-ES      EUR  \n",
       "13  2025-10-08T13:00:00  2100-01-01T00:00:00            kickz-FR      EUR  \n",
       "19  2025-10-08T13:00:00  2100-01-01T00:00:00            kickz-IT      EUR  \n",
       "25  2025-10-08T13:00:00  2100-01-01T00:00:00            kickz-AT      EUR  \n",
       "31  2025-10-08T13:00:00  2100-01-01T00:00:00            kickz-NL      EUR  \n",
       "37  2025-10-08T13:00:00  2100-01-01T00:00:00            kickz-BE      EUR  \n",
       "43  2025-10-08T13:00:00  2100-01-01T00:00:00            kickz-DK      EUR  \n",
       "49  2025-10-08T13:00:00  2100-01-01T00:00:00            kickz-FI      EUR  \n",
       "55  2025-10-08T13:00:00  2100-01-01T00:00:00            kickz-NO      EUR  \n",
       "61  2025-10-08T13:00:00  2100-01-01T00:00:00            kickz-CH      CHF  \n",
       "67  2025-10-08T13:00:00  2100-01-01T00:00:00            kickz-SE      EUR  \n",
       "73  2025-10-08T13:00:00  2100-01-01T00:00:00            kickz-UK      GBP  "
      ]
     },
     "execution_count": 22,
     "metadata": {},
     "output_type": "execute_result"
    }
   ],
   "source": [
    "df[df['material_number'] == 'IJ5626-M']"
   ]
  },
  {
   "cell_type": "code",
   "execution_count": null,
   "id": "befee9ec-8338-4d43-96c3-0d202b49b6af",
   "metadata": {
    "tags": []
   },
   "outputs": [],
   "source": [
    "import datetime as dt"
   ]
  },
  {
   "cell_type": "code",
   "execution_count": null,
   "id": "a5aae57d-c18b-4c4b-a92e-8376f08da864",
   "metadata": {
    "tags": []
   },
   "outputs": [],
   "source": [
    "df['export_country_code'].unique()"
   ]
  },
  {
   "cell_type": "code",
   "execution_count": null,
   "id": "c3f5209d-a96d-4625-afe7-00fe9b64294c",
   "metadata": {
    "tags": []
   },
   "outputs": [],
   "source": [
    "df.head(100)['export_country_code'].unique()"
   ]
  },
  {
   "cell_type": "code",
   "execution_count": null,
   "id": "05829f43-b701-47c4-95c0-5d87094ce29d",
   "metadata": {
    "tags": []
   },
   "outputs": [],
   "source": [
    "upload_dataframe_to_azure_blob_storage(\n",
    "    df.head(10000),\n",
    "    settings.export_container_name,\n",
    "    settings.export_blob_name.format(ts_millis=int(dt.datetime.now(dt.timezone.utc).timestamp() * 1000)),\n",
    "    settings.export_connection_string\n",
    ")"
   ]
  },
  {
   "cell_type": "code",
   "execution_count": null,
   "id": "0598a5ab-fbb7-4551-b1c8-d82cc52da6a3",
   "metadata": {
    "tags": []
   },
   "outputs": [],
   "source": [
    "df.iloc[72:73]"
   ]
  },
  {
   "cell_type": "code",
   "execution_count": null,
   "id": "36e4da07-7c62-4ead-a983-ac808d90944f",
   "metadata": {
    "tags": []
   },
   "outputs": [],
   "source": [
    "df.head(75)"
   ]
  },
  {
   "cell_type": "code",
   "execution_count": null,
   "id": "77e38fb8-a455-4dec-bd02-6d29fbd81fd6",
   "metadata": {
    "tags": []
   },
   "outputs": [],
   "source": [
    "from client_based_code.kickz_code import load_material_number_mapper"
   ]
  },
  {
   "cell_type": "code",
   "execution_count": null,
   "id": "c85adfa8-7333-4d18-93f8-2c785fbeaf6b",
   "metadata": {
    "tags": []
   },
   "outputs": [],
   "source": [
    "df_mn = load_material_number_mapper()"
   ]
  },
  {
   "cell_type": "code",
   "execution_count": null,
   "id": "c51850a0-96ef-48a5-af29-f2fe90ac3d11",
   "metadata": {
    "tags": []
   },
   "outputs": [],
   "source": [
    "df_mn[df_mn['material_number'] == 'IJ5626-K2XL']"
   ]
  },
  {
   "cell_type": "code",
   "execution_count": null,
   "id": "6a6ec554-481e-4ceb-9d59-2933424e4abc",
   "metadata": {},
   "outputs": [],
   "source": []
  },
  {
   "cell_type": "code",
   "execution_count": null,
   "id": "ace560a5-5b11-41a4-994c-3db68b464716",
   "metadata": {
    "tags": []
   },
   "outputs": [],
   "source": [
    "df2 = pd.read_csv('prices-1759372237007.csv')"
   ]
  },
  {
   "cell_type": "code",
   "execution_count": null,
   "id": "1a25cd55-9931-48b1-9428-57b81cf519ef",
   "metadata": {
    "tags": []
   },
   "outputs": [],
   "source": [
    "df"
   ]
  },
  {
   "cell_type": "code",
   "execution_count": null,
   "id": "f9c8d00c-42e7-4bf5-bb50-556307fea0bf",
   "metadata": {
    "tags": []
   },
   "outputs": [],
   "source": [
    "df2.iloc[71:72]"
   ]
  },
  {
   "cell_type": "code",
   "execution_count": null,
   "id": "70805d6b-34a4-4ee5-b406-9b2989eae8df",
   "metadata": {},
   "outputs": [],
   "source": []
  }
 ],
 "metadata": {
  "kernelspec": {
   "display_name": "Python 3 (ipykernel)",
   "language": "python",
   "name": "python3"
  },
  "language_info": {
   "codemirror_mode": {
    "name": "ipython",
    "version": 3
   },
   "file_extension": ".py",
   "mimetype": "text/x-python",
   "name": "python",
   "nbconvert_exporter": "python",
   "pygments_lexer": "ipython3",
   "version": "3.11.5"
  }
 },
 "nbformat": 4,
 "nbformat_minor": 5
}
